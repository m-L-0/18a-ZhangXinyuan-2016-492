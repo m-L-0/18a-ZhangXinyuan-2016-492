{
 "cells": [
  {
   "cell_type": "code",
   "execution_count": 1,
   "metadata": {},
   "outputs": [
    {
     "name": "stderr",
     "output_type": "stream",
     "text": [
      "D:\\Downloads\\Anaconda\\lib\\site-packages\\h5py\\__init__.py:36: FutureWarning: Conversion of the second argument of issubdtype from `float` to `np.floating` is deprecated. In future, it will be treated as `np.float64 == np.dtype(float).type`.\n",
      "  from ._conv import register_converters as _register_converters\n"
     ]
    }
   ],
   "source": [
    "import tensorflow as tf"
   ]
  },
  {
   "cell_type": "code",
   "execution_count": 2,
   "metadata": {},
   "outputs": [],
   "source": [
    "#总结name_scope与variable_scope的作用以及异同点"
   ]
  },
  {
   "cell_type": "code",
   "execution_count": 3,
   "metadata": {},
   "outputs": [
    {
     "name": "stdout",
     "output_type": "stream",
     "text": [
      "abc\n",
      "abc\n"
     ]
    }
   ],
   "source": [
    "#name_scope\n",
    "#作用：解决图中的节点命名重复、难以区分、杂乱无章的问题。可以为其作用域中的结点的name添加一个或多个前缀，\n",
    "#     并使用这些前缀作为划分内部与外部op范围的标记。同时在TensorBoard可视化时可以作为一个整体出现（也可以展开）。\n",
    "#     并且name_scope可以嵌套使用，代表不同层级的功能区域的划分。使用tf.name_scope()创建，返回一个上下文管理器。\n",
    "\n",
    "#variable_scope\n",
    "#作用：管理变量作用域以及变量相关操作。variable_scope也可以像name_scope一样用来给不同操作区域划分范围（添加name前缀）。\n",
    "#      可以与tf.get_variable()等配合使用完成对变量的重复使用。\n",
    "\n",
    "#相同点：二者都可以用来给不同操作区域划分范围（添加name前缀）\n",
    "\n",
    "#不同点：\n",
    "#name_scope不能给tf.get_variable()创建的变量加前缀\n",
    "#variable_scope可以与tf.get_variable()配合使用完成对变量的重复使用，并且包含了name_scope的全部功能\n",
    "g = tf.Graph()\n",
    "with g.as_default():\n",
    "    with tf.variable_scope('abc') as scope:\n",
    "        # 输出variable_scope的`name`\n",
    "        print(scope.name)  # >>> abc\n",
    "        \n",
    "        n_scope = g.get_name_scope()\n",
    "        # 输出name_scope的`name`\n",
    "        print(n_scope)  # >>> abc"
   ]
  },
  {
   "cell_type": "code",
   "execution_count": 4,
   "metadata": {},
   "outputs": [],
   "source": [
    "#构建逻辑回归模型（只有模型部分，不包括训练部分），使用get_variable与variable_scope将变量的创建与使用分开。\n",
    "#提示：使用tf.nn.sigmoid实现logistic函数。"
   ]
  },
  {
   "cell_type": "code",
   "execution_count": 8,
   "metadata": {},
   "outputs": [],
   "source": [
    "#创建变量\n",
    "with tf.variable_scope('scope', reuse=None) as scope:\n",
    "    tf.get_variable('x1', dtype=tf.float32, shape=[1])\n",
    "#获取变量\n",
    "with tf.variable_scope(scope, reuse=True) as scope:\n",
    "    x = tf.get_variable('x1')"
   ]
  },
  {
   "cell_type": "code",
   "execution_count": 10,
   "metadata": {},
   "outputs": [],
   "source": [
    "#创建参数\n",
    "w = tf.Variable(tf.random_normal([1]))\n",
    "b = tf.Variable(tf.random_normal([1]))"
   ]
  },
  {
   "cell_type": "code",
   "execution_count": 12,
   "metadata": {},
   "outputs": [],
   "source": [
    "#创建函数\n",
    "y = tf.nn.sigmoid(tf.multiply(w,x) + b)"
   ]
  }
 ],
 "metadata": {
  "kernelspec": {
   "display_name": "Python 3",
   "language": "python",
   "name": "python3"
  },
  "language_info": {
   "codemirror_mode": {
    "name": "ipython",
    "version": 3
   },
   "file_extension": ".py",
   "mimetype": "text/x-python",
   "name": "python",
   "nbconvert_exporter": "python",
   "pygments_lexer": "ipython3",
   "version": "3.6.4"
  }
 },
 "nbformat": 4,
 "nbformat_minor": 2
}
