{
 "cells": [
  {
   "cell_type": "code",
   "execution_count": 33,
   "metadata": {},
   "outputs": [],
   "source": [
    "import tensorflow as tf"
   ]
  },
  {
   "cell_type": "code",
   "execution_count": 34,
   "metadata": {},
   "outputs": [],
   "source": [
    "#1. 设计一个函数，要求输入两个shape、dtype一样的张量，输出一个同样shape、dtype的张量，并且输出的张量中的元素的每一个值都是输入的两个张量中对应元素最大的。即模拟tf.maximum的功能，但不能直接使用此函数。"
   ]
  },
  {
   "cell_type": "code",
   "execution_count": 63,
   "metadata": {},
   "outputs": [
    {
     "name": "stdout",
     "output_type": "stream",
     "text": [
      "2\n"
     ]
    }
   ],
   "source": [
    "x = tf.constant(1,shape=[],dtype=tf.int32)\n",
    "y = tf.constant(2,shape=[],dtype=tf.int32)\n",
    "def f1():\n",
    "    return x\n",
    "def f2():\n",
    "    return y\n",
    "result = tf.cond(tf.greater(x,y),f1,f2)\n",
    "with tf.Session() as session:    \n",
    "    print(result.eval())"
   ]
  },
  {
   "cell_type": "code",
   "execution_count": 6,
   "metadata": {},
   "outputs": [],
   "source": [
    "#tf.minimum、tf.maximum的用法\n",
    "#tf.minimum返回最小值   tf.minimum(x,y,name=None),返回x和y中小的那个\n",
    "#tf.maximum返回最大值   tf.maximum(x,y,name=None),返回x和y中大的那个"
   ]
  },
  {
   "cell_type": "code",
   "execution_count": null,
   "metadata": {},
   "outputs": [],
   "source": [
    "#TensorArray的基本用法，并尝试配合tf.while_loop配合使用\n",
    "#TensorArray可以看做具有动态size功能的Tensor数组\n",
    "x = tf.constant(0)\n",
    "y = tf.TensorArray(dtype=tf.float32, size=1, dynamic_size=True)\n",
    "\n",
    "def cond(x, y):\n",
    "    return tf.less(time, 1)\n",
    "\n",
    "def body(x, y):\n",
    "    x += 1\n",
    "    return x, y\n",
    "\n",
    "x,y = tf.while_loop(cond, body,loop_vars=[x,y])"
   ]
  }
 ],
 "metadata": {
  "kernelspec": {
   "display_name": "Python 3",
   "language": "python",
   "name": "python3"
  },
  "language_info": {
   "codemirror_mode": {
    "name": "ipython",
    "version": 3
   },
   "file_extension": ".py",
   "mimetype": "text/x-python",
   "name": "python",
   "nbconvert_exporter": "python",
   "pygments_lexer": "ipython3",
   "version": "3.6.4"
  }
 },
 "nbformat": 4,
 "nbformat_minor": 2
}
