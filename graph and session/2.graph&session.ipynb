{
 "cells": [
  {
   "cell_type": "code",
   "execution_count": 44,
   "metadata": {},
   "outputs": [],
   "source": [
    "#张鑫媛\n",
    "#2016011492\n",
    "#在一个notebook文件中构建一张图，实现两个数的加法操作，并在两个不同的会话中执行图\n",
    "import tensorflow as tf"
   ]
  },
  {
   "cell_type": "code",
   "execution_count": 12,
   "metadata": {},
   "outputs": [],
   "source": [
    "#创建图\n",
    "a0 = tf.add(2,3)"
   ]
  },
  {
   "cell_type": "code",
   "execution_count": 13,
   "metadata": {},
   "outputs": [
    {
     "name": "stdout",
     "output_type": "stream",
     "text": [
      "5\n"
     ]
    }
   ],
   "source": [
    "sess = tf.Session()\n",
    "res = sess.run(a0)\n",
    "print(res)"
   ]
  },
  {
   "cell_type": "code",
   "execution_count": 14,
   "metadata": {},
   "outputs": [
    {
     "name": "stdout",
     "output_type": "stream",
     "text": [
      "5\n"
     ]
    }
   ],
   "source": [
    "with tf.Session() as sess:\n",
    "    print(sess.run(a0))"
   ]
  },
  {
   "cell_type": "code",
   "execution_count": 6,
   "metadata": {},
   "outputs": [],
   "source": [
    "#查找资料学习TensorFlow中执行常量基本运算API的基本用法，如tf.add、tf.subtract、tf.multiply、tf.divide、tf.mod、tf.pow、tf.square、tf.sqrt等的用法，并在notebook中演示其基本用法"
   ]
  },
  {
   "cell_type": "code",
   "execution_count": 6,
   "metadata": {},
   "outputs": [
    {
     "name": "stdout",
     "output_type": "stream",
     "text": [
      "Tensor(\"Add_1:0\", shape=(), dtype=int32)\n"
     ]
    }
   ],
   "source": [
    "#tf.add 加法计算\n",
    "a1 = tf.add(1,2)\n",
    "a2 = tf.add([1,2],[3,3])"
   ]
  },
  {
   "cell_type": "code",
   "execution_count": 4,
   "metadata": {},
   "outputs": [],
   "source": [
    "#tf.subtract 减法计算\n",
    "b1 = tf.subtract(1,2)\n",
    "b2 = tf.subtract([1,2],[3,4])"
   ]
  },
  {
   "cell_type": "code",
   "execution_count": 5,
   "metadata": {},
   "outputs": [],
   "source": [
    "#tf.multiply 乘法计算\n",
    "c1 = tf.multiply(1,2)\n",
    "c2 = tf.multiply([1,2],[3,4])"
   ]
  },
  {
   "cell_type": "code",
   "execution_count": 20,
   "metadata": {},
   "outputs": [
    {
     "name": "stdout",
     "output_type": "stream",
     "text": [
      "[0.33333333 0.5       ]\n"
     ]
    }
   ],
   "source": [
    "#tf.divide  除法运算\n",
    "d1 = tf.divide(1,2) #前者除以后者\n",
    "d2 = tf.divide(tf.constant([1,2]),tf.constant([3,4]))#不能使用Python自身的数据结构"
   ]
  },
  {
   "cell_type": "code",
   "execution_count": 24,
   "metadata": {},
   "outputs": [
    {
     "name": "stdout",
     "output_type": "stream",
     "text": [
      "0\n"
     ]
    }
   ],
   "source": [
    "#tf.mod  模运算\n",
    "e1 = tf.mod(2,1)\n",
    "e2 = tf.mod([4,2],[3,1])"
   ]
  },
  {
   "cell_type": "code",
   "execution_count": 30,
   "metadata": {},
   "outputs": [
    {
     "name": "stdout",
     "output_type": "stream",
     "text": [
      "[ 16 243]\n"
     ]
    }
   ],
   "source": [
    "#tf.pow  幂运算\n",
    "f1 = tf.pow(2,3)\n",
    "f2 = tf.pow(tf.constant([2,3]),tf.constant([4,5]))\n",
    "with tf.Session() as sess:\n",
    "    print(sess.run(f2))"
   ]
  },
  {
   "cell_type": "code",
   "execution_count": 34,
   "metadata": {},
   "outputs": [
    {
     "name": "stdout",
     "output_type": "stream",
     "text": [
      "[1 4 9]\n"
     ]
    }
   ],
   "source": [
    "#tf.square 平方运算\n",
    "g1 = tf.square(2)\n",
    "g2 = tf.square(tf.constant([1,2,3]))\n",
    "with tf.Session() as sess:\n",
    "    print(sess.run(g2))"
   ]
  },
  {
   "cell_type": "code",
   "execution_count": 42,
   "metadata": {},
   "outputs": [
    {
     "name": "stdout",
     "output_type": "stream",
     "text": [
      "2.0\n",
      "[1.4142135 1.7320508 2.       ]\n"
     ]
    }
   ],
   "source": [
    "#tf.sqrt  开方运算\n",
    "h1 = tf.sqrt(4.)\n",
    "with tf.Session() as sess:\n",
    "    print(sess.run(h1))\n",
    "h2 = tf.sqrt(tf.constant([2.,3.,4.]))\n",
    "with tf.Session() as sess:\n",
    "    print(sess.run(h2))"
   ]
  },
  {
   "cell_type": "code",
   "execution_count": null,
   "metadata": {},
   "outputs": [],
   "source": []
  }
 ],
 "metadata": {
  "kernelspec": {
   "display_name": "Python 3",
   "language": "python",
   "name": "python3"
  },
  "language_info": {
   "codemirror_mode": {
    "name": "ipython",
    "version": 3
   },
   "file_extension": ".py",
   "mimetype": "text/x-python",
   "name": "python",
   "nbconvert_exporter": "python",
   "pygments_lexer": "ipython3",
   "version": "3.6.4"
  }
 },
 "nbformat": 4,
 "nbformat_minor": 2
}
