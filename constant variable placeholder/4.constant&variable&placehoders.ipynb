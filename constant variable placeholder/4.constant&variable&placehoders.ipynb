{
 "cells": [
  {
   "cell_type": "code",
   "execution_count": 24,
   "metadata": {},
   "outputs": [],
   "source": [
    "#4.常量、变量、占位符\n",
    "import tensorflow as tf\n",
    "import numpy as np\n",
    "import matplotlib.pyplot as plt"
   ]
  },
  {
   "cell_type": "code",
   "execution_count": 25,
   "metadata": {},
   "outputs": [],
   "source": [
    "# 构建二元线性回归模型，其中模型中的参数使用tf.Variable()构建,模型的样本输入使用tf.placeholder代替。写出模型结构。"
   ]
  },
  {
   "cell_type": "code",
   "execution_count": 33,
   "metadata": {},
   "outputs": [],
   "source": [
    "#构建随机参数\n",
    "a = tf.Variable(tf.random_normal([1]))\n",
    "b = tf.Variable(tf.random_normal([1]))"
   ]
  },
  {
   "cell_type": "code",
   "execution_count": 34,
   "metadata": {},
   "outputs": [],
   "source": [
    "#样本输入输出\n",
    "x = tf.placeholder(dtype=tf.float32)\n",
    "y = tf.placeholder(dtype=tf.float32)"
   ]
  },
  {
   "cell_type": "code",
   "execution_count": 35,
   "metadata": {},
   "outputs": [],
   "source": [
    "#定义线性模型\n",
    "Q = tf.add(tf.multiply(a,x),b)"
   ]
  },
  {
   "cell_type": "code",
   "execution_count": 36,
   "metadata": {},
   "outputs": [],
   "source": [
    "#定义误差\n",
    "lost = tf.reduce_sum(tf.squared_difference(y,Q))"
   ]
  },
  {
   "cell_type": "code",
   "execution_count": 37,
   "metadata": {},
   "outputs": [],
   "source": [
    "#参数优化\n",
    "optimizer = tf.train.GradientDescentOptimizer(0.0000001)\n",
    "train_step = optimizer.minimize(lost)"
   ]
  },
  {
   "cell_type": "code",
   "execution_count": 46,
   "metadata": {},
   "outputs": [],
   "source": [
    "#初始化\n",
    "sess = tf.Session()\n",
    "init = tf.global_variables_initializer()\n",
    "sess.run(init)"
   ]
  },
  {
   "cell_type": "code",
   "execution_count": 52,
   "metadata": {},
   "outputs": [
    {
     "name": "stdout",
     "output_type": "stream",
     "text": [
      "The 0 time:\n",
      "a: 0.909138\n",
      "b: -0.314347\n",
      "lost: 0.098814\n",
      "The 10 time:\n",
      "a: 0.909226\n",
      "b: -0.314334\n",
      "lost: 125.934998\n",
      "The 20 time:\n",
      "a: 0.909778\n",
      "b: -0.314300\n",
      "lost: 489.239075\n",
      "The 30 time:\n",
      "a: 0.911228\n",
      "b: -0.314244\n",
      "lost: 1087.508057\n",
      "The 40 time:\n",
      "a: 0.914010\n",
      "b: -0.314166\n",
      "lost: 1914.392578\n",
      "The 50 time:\n",
      "a: 0.918544\n",
      "b: -0.314067\n",
      "lost: 2957.929199\n",
      "The 60 time:\n",
      "a: 0.925241\n",
      "b: -0.313946\n",
      "lost: 4198.975098\n",
      "The 70 time:\n",
      "a: 0.934486\n",
      "b: -0.313805\n",
      "lost: 5609.978027\n",
      "The 80 time:\n",
      "a: 0.946636\n",
      "b: -0.313645\n",
      "lost: 7154.249023\n",
      "The 90 time:\n",
      "a: 0.962006\n",
      "b: -0.313465\n",
      "lost: 8785.864258\n"
     ]
    }
   ],
   "source": [
    "#开始训练\n",
    "for i in range(100):\n",
    "    x_1 = [i]\n",
    "    y_1 = [2*i]\n",
    "    feed = { x: x_1, y: y_1 }\n",
    "    sess.run(train_step, feed_dict=feed)\n",
    "    if i % 10 == 0 :\n",
    "        print(\"The %d time:\" % i)\n",
    "        print(\"a: %f\" % sess.run(a))\n",
    "        print(\"b: %f\" % sess.run(b))\n",
    "        print(\"lost: %f\" % sess.run(lost, feed_dict=feed))"
   ]
  }
 ],
 "metadata": {
  "kernelspec": {
   "display_name": "Python 3",
   "language": "python",
   "name": "python3"
  },
  "language_info": {
   "codemirror_mode": {
    "name": "ipython",
    "version": 3
   },
   "file_extension": ".py",
   "mimetype": "text/x-python",
   "name": "python",
   "nbconvert_exporter": "python",
   "pygments_lexer": "ipython3",
   "version": "3.6.4"
  }
 },
 "nbformat": 4,
 "nbformat_minor": 2
}
