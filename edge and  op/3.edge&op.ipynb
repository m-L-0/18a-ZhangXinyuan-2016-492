{
 "cells": [
  {
   "cell_type": "code",
   "execution_count": 21,
   "metadata": {},
   "outputs": [],
   "source": [
    "#3.作业\n",
    "import tensorflow as tf"
   ]
  },
  {
   "cell_type": "code",
   "execution_count": 25,
   "metadata": {},
   "outputs": [],
   "source": [
    "#4阶张量img其shape=（[10, 28, 28, 3])，代表10张28*28像素的3通道RGB图像\n",
    "img = tf.constant(1,shape=[10,28,28,3])\n",
    "#with tf.Session() as sess:\n",
    "    #print(sess.run(img))"
   ]
  },
  {
   "cell_type": "code",
   "execution_count": 28,
   "metadata": {},
   "outputs": [],
   "source": [
    "#利用索引取出第2张图片\n",
    "p_1 = img[1:2,:,:,:]"
   ]
  },
  {
   "cell_type": "code",
   "execution_count": 29,
   "metadata": {},
   "outputs": [],
   "source": [
    "#利用切片取出第2张图片\n",
    "p_2 = tf.slice(img,[1,0,0,0],[1,28,28,3])"
   ]
  },
  {
   "cell_type": "code",
   "execution_count": 30,
   "metadata": {},
   "outputs": [],
   "source": [
    "#使用切片与使用索引取出的一张图片有何不同？\n",
    "##切片需要知道要取图片的起始位置和要取长度或者结束位置；索引需要开始和结束位置，全部都需要可以用:代替"
   ]
  },
  {
   "cell_type": "code",
   "execution_count": 31,
   "metadata": {},
   "outputs": [],
   "source": [
    "#取出其中的第1、3、5、7张图片\n",
    "#从第一张（下标为0）开始到第七张（下标为6）结束，步长为2，取奇数位\n",
    "p_3 = img[0:7:2,:,:,:]"
   ]
  },
  {
   "cell_type": "code",
   "execution_count": 32,
   "metadata": {},
   "outputs": [],
   "source": [
    "#取出第6-8张（包括6不包括8）图片中中心区域（14*14）的部分\n",
    "p_4 = tf.slice(img,[5,7,7,0],[2,14,14,3])"
   ]
  },
  {
   "cell_type": "code",
   "execution_count": 33,
   "metadata": {},
   "outputs": [],
   "source": [
    "#将图片根据通道拆分成三份单通道图片\n",
    "p_5,p_6,p_7 = tf.split(img,3,3)\n",
    "#p_5,p_6,p_7 = tf.split(img,[1,1,1],3)"
   ]
  },
  {
   "cell_type": "code",
   "execution_count": 44,
   "metadata": {},
   "outputs": [
    {
     "name": "stdout",
     "output_type": "stream",
     "text": [
      "Tensor(\"Shape_11:0\", shape=(4,), dtype=int32)\n",
      "1\n",
      "(10, 28, 28, 3)\n"
     ]
    },
    {
     "data": {
      "text/plain": [
       "TensorShape([Dimension(10), Dimension(28), Dimension(28), Dimension(3)])"
      ]
     },
     "execution_count": 44,
     "metadata": {},
     "output_type": "execute_result"
    }
   ],
   "source": [
    "#tf.shape(img)返回的张量的阶数以及shape属性的值\n",
    "a = tf.shape(img)\n",
    "print(a)\n",
    "with tf.Session() as sess:\n",
    "    print(sess.run(tf.rank(a)))\n",
    "print(img.shape)\n",
    "img.shape"
   ]
  },
  {
   "cell_type": "code",
   "execution_count": null,
   "metadata": {},
   "outputs": [],
   "source": []
  }
 ],
 "metadata": {
  "kernelspec": {
   "display_name": "Python 3",
   "language": "python",
   "name": "python3"
  },
  "language_info": {
   "codemirror_mode": {
    "name": "ipython",
    "version": 3
   },
   "file_extension": ".py",
   "mimetype": "text/x-python",
   "name": "python",
   "nbconvert_exporter": "python",
   "pygments_lexer": "ipython3",
   "version": "3.6.4"
  }
 },
 "nbformat": 4,
 "nbformat_minor": 2
}
